{
 "metadata": {
  "language_info": {
   "codemirror_mode": {
    "name": "ipython",
    "version": 3
   },
   "file_extension": ".py",
   "mimetype": "text/x-python",
   "name": "python",
   "nbconvert_exporter": "python",
   "pygments_lexer": "ipython3",
   "version": "3.7.3-final"
  },
  "orig_nbformat": 2,
  "kernelspec": {
   "name": "python_defaultSpec_1597864359788",
   "display_name": "Python 3.7.3 64-bit ('Continuum': virtualenv)"
  }
 },
 "nbformat": 4,
 "nbformat_minor": 2,
 "cells": [
  {
   "cell_type": "code",
   "execution_count": 1,
   "metadata": {
    "tags": []
   },
   "outputs": [
    {
     "output_type": "stream",
     "name": "stdout",
     "text": "2020-08-19 15:16:13,698 - INFO    | Starting BAC0 version 20.08.03dev (Lite)\n2020-08-19 15:16:13,701 - INFO    | Use BAC0.log_level to adjust verbosity of the app.\n2020-08-19 15:16:13,701 - INFO    | Ex. BAC0.log_level('silence') or BAC0.log_level('error')\n2020-08-19 15:16:13,789 - INFO    | Using ip : 192.168.211.54\n2020-08-19 15:16:13,792 - INFO    | Starting app...\n2020-08-19 15:16:13,794 - INFO    | BAC0 started\n2020-08-19 15:16:13,796 - INFO    | Registered as Simple BACnet/IP App\n"
    }
   ],
   "source": [
    "import BAC0\n",
    "bacnet = BAC0.lite()"
   ]
  },
  {
   "cell_type": "code",
   "execution_count": 2,
   "metadata": {
    "tags": []
   },
   "outputs": [
    {
     "output_type": "stream",
     "name": "stdout",
     "text": "2020-08-19 15:16:37,702 - INFO    | Changing device state to DeviceDisconnected'>\n2020-08-19 15:16:38,866 - INFO    | Changing device state to RPMDeviceConnected'>\n2020-08-19 15:16:39,206 - INFO    | Device 5033:[PCG-2-033] found... building points list\n2020-08-19 15:16:45,143 - INFO    | Ready!\n2020-08-19 15:16:45,144 - INFO    | Device defined for normal polling with a delay of 10sec\n2020-08-19 15:16:45,146 - INFO    | Polling started, values read every 10 seconds\n"
    }
   ],
   "source": [
    "d = BAC0.device('303:33',5033,bacnet)"
   ]
  },
  {
   "cell_type": "code",
   "execution_count": null,
   "metadata": {},
   "outputs": [],
   "source": []
  }
 ]
}